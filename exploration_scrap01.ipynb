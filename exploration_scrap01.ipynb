{
 "cells": [
  {
   "cell_type": "code",
   "execution_count": 1,
   "metadata": {},
   "outputs": [],
   "source": [
    "import pandas as pd"
   ]
  },
  {
   "cell_type": "code",
   "execution_count": null,
   "metadata": {},
   "outputs": [],
   "source": [
    "df = pd.read_csv(\"books.csv\")"
   ]
  },
  {
   "cell_type": "code",
   "execution_count": 9,
   "metadata": {},
   "outputs": [],
   "source": [
    "url = df['link'][0]"
   ]
  },
  {
   "cell_type": "code",
   "execution_count": 7,
   "metadata": {},
   "outputs": [],
   "source": [
    "import os\n",
    "import shutil\n",
    "import requests"
   ]
  },
  {
   "cell_type": "code",
   "execution_count": 10,
   "metadata": {},
   "outputs": [],
   "source": [
    "r = requests.get(url, allow_redirects=True)"
   ]
  },
  {
   "cell_type": "code",
   "execution_count": 11,
   "metadata": {},
   "outputs": [
    {
     "data": {
      "text/plain": [
       "<Response [200]>"
      ]
     },
     "execution_count": 11,
     "metadata": {},
     "output_type": "execute_result"
    }
   ],
   "source": [
    "r"
   ]
  },
  {
   "cell_type": "code",
   "execution_count": 14,
   "metadata": {},
   "outputs": [
    {
     "name": "stdout",
     "output_type": "stream",
     "text": [
      "text/html\n"
     ]
    }
   ],
   "source": [
    "print(r.headers.get('content-type'))"
   ]
  },
  {
   "cell_type": "code",
   "execution_count": null,
   "metadata": {},
   "outputs": [],
   "source": [
    "print(r.headers.get('content-type'))\n"
   ]
  },
  {
   "cell_type": "code",
   "execution_count": 18,
   "metadata": {},
   "outputs": [
    {
     "data": {
      "text/plain": [
       "4478"
      ]
     },
     "execution_count": 18,
     "metadata": {},
     "output_type": "execute_result"
    }
   ],
   "source": [
    "open('test.txt', 'wb').write(r.content)"
   ]
  },
  {
   "cell_type": "code",
   "execution_count": 20,
   "metadata": {},
   "outputs": [],
   "source": [
    "import urllib.request\n",
    "\n",
    "response = urllib.request.urlopen(url)  "
   ]
  },
  {
   "cell_type": "code",
   "execution_count": null,
   "metadata": {},
   "outputs": [],
   "source": [
    "file = open(\"FILENAME.pdf\", 'wb')\n",
    "file.write(response.read())\n",
    "file.close()"
   ]
  },
  {
   "cell_type": "code",
   "execution_count": 25,
   "metadata": {},
   "outputs": [
    {
     "data": {
      "text/plain": [
       "b'<!DOCTYPE html><html lang=\"en\" class=\"\"><head><style> .book_table_b658d27586 tr > td > img { height: 500px !important; }</style><meta charset=\"utf-8\"><meta name=\"theme-color\" content=\"#000\"><meta name=\"viewport\" content=\"width=device-width, initial-scale=1\"><meta name=\"description\" content=\"Free PDF Book: Oracle High Availability, Disaster Recovery, and Cloud Services: Explore RAC, Data Guard, and Cloud Technology\"><meta name=\"google-site-verification\" content=\"k0_dvl69Kewh7j7OzJFNcDyvPL85eY_ZQ_2MbNZ-sjc\"><title>Oracle High Availability, Disaster Recovery, and Cloud Services: Explore RAC, Data Guard, and Cloud Technology | Book | PDF</title><link rel=\"icon\" href=\"/favicon.png\"><style> table { border-collapse: collapse; } td, th { border: 1px solid #000; padding: 4px; } td:first-child { white-space: nowrap; word-break: keep-all; overflow: hidden; } .pagination_element_current { font-weight: bold; }</style><script async src=\"https://www.googletagmanager.com/gtag/js?id=G-95WFDSRV83\"></script><script> window.dataLayer = window.dataLayer || []; function gtag() { dataLayer.push(arguments); } gtag(\\'js\\', new Date()); gtag(\\'config\\', \"G-95WFDSRV83\"); </script><style> .download_button_5c51733c51{ background: #600; color: #eee; cursor: pointer; display: inline-block; font-family: sans-serif; font-size: 24px; margin: 4px; padding: 8px; text-decoration: none; user-select: none; } .download_button_5c51733c51:active { background: #900; }</style></head><body><a href=\"/\">PDFs Library</a><h1>Oracle High Availability, Disaster Recovery, and Cloud Services: Explore RAC, Data Guard, and Cloud Technology</h1><table class=\"book_table_b658d27586\"><tr><td>Book Cover</td><td><img src=\"/getCover.php?id=1\" alt=\"Oracle High Availability, Disaster Recovery, and Cloud Services: Explore RAC, Data Guard, and Cloud Technology | Book | Download\"></td></tr><tr><td></td><td><a class=\"download_button_5c51733c51\" href=\"/getBook.php?id=1\" title=\"Oracle High Availability, Disaster Recovery, and Cloud Services: Explore RAC, Data Guard, and Cloud Technology | Download PDF Book\" download=\"\">Download</a></td></tr><tr><td>Authors</td><td>Bal Mukund Sharma, K M Krishna Kumar, Konstantin Kerekovski, Nassyam Basha, Y V Ravikumar</td></tr><tr><td>Publishers</td><td>Apress</td></tr><tr><td>Year</td><td>2019</td></tr><tr><td>Language</td><td>English</td></tr><tr><td>Pages (biblio/tech)</td><td>679/697</td></tr><tr><td>ISBNs</td><td>1484243501, 9781484243503</td></tr><tr><td>PDF Size</td><td>21 MB</td></tr><tr><td>Md5</td><td>c0188b1078f93ce001fef80a16267174</td></tr><tr><td>Description</td><td>Work with Oracle database\\'s high-availability and disaster-management technologies. This book covers all the Oracle high-availability technologies in one place and also discusses how you configure them in engineered systems and cloud services.<br>You will see that when you say your database is healthy, it is not limited to whether the database is performing well on day-to-day operations; rather it should also be robust and free from disasters. As a result, your database will be capable of handling unforeseen incidents and recovering from disaster with very minimal or zero downtime.Oracle High Availability, Disaster Recovery, and Cloud Servicesexplores all the high-availability features of Oracle database, how to configure them, and best practices.<br>After you have read this book you will have mastered database high-availability concepts such as RAC, Data Guard, OEM 13c, and engineered systems (Oracle Exadata x6/x7 and Oracle Database Appliance).<br>What You Will Learn<br>Master the best practices and features of Exadata and ODA<br>Implement and monitor high availability with OEM 13c<br>Clone databases using various methods in Oracle 12c R2<br>Work with the Oracle sharding features of Oracle 12c R2<br>Who This Book Is ForOracle database administrators</td></tr><tr><td>Table of Contents</td><td></td></tr><tr><td>Topic</td><td><a href=\"/topic.php?id=1\">Computers\\\\\\\\Databases</a></td></tr><tr><td>Time Added</td><td>2019.09.11 @ 07:07:23</td></tr><tr><td>Time Modified</td><td>2019.12.21 @ 18:23:21</td></tr><tr><td>Libgen Id</td><td>2404327</td></tr><tr><td>Tags</td><td></td></tr><tr><td>Download Count</td><td>120</td></tr><tr><td>E-Book Title</td><td><i>Oracle High Availability, Disaster Recovery, and Cloud Services: Explore RAC, Data Guard, and Cloud Technology</i></td></tr></table><br><div style=\"text-align: center;\">Download Free PDF E-Books</div></body></html>'"
      ]
     },
     "execution_count": 25,
     "metadata": {},
     "output_type": "execute_result"
    }
   ],
   "source": [
    "response.read()"
   ]
  }
 ],
 "metadata": {
  "interpreter": {
   "hash": "983edc62fd98157aad6972552c47de27c423c1eca33db8971278494f8b5c35e6"
  },
  "kernelspec": {
   "display_name": "Python 3.9.7 64-bit",
   "language": "python",
   "name": "python3"
  },
  "language_info": {
   "codemirror_mode": {
    "name": "ipython",
    "version": 3
   },
   "file_extension": ".py",
   "mimetype": "text/x-python",
   "name": "python",
   "nbconvert_exporter": "python",
   "pygments_lexer": "ipython3",
   "version": "3.8.8"
  },
  "orig_nbformat": 4
 },
 "nbformat": 4,
 "nbformat_minor": 2
}
